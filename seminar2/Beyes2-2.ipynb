{
 "cells": [
  {
   "cell_type": "code",
   "execution_count": null,
   "metadata": {},
   "outputs": [],
   "source": [
    "import pymc3 as pm\n",
    "import numpy as np\n",
    "import pandas as pd\n",
    "import scipy.stats as stats\n",
    "import matplotlib.pyplot as plt\n",
    "import seaborn as sns\n",
    "plt.style.use('seaborn-darkgrid')"
   ]
  },
  {
   "cell_type": "code",
   "execution_count": null,
   "metadata": {},
   "outputs": [],
   "source": [
    "iris = sns.load_dataset('iris')\n",
    "iris.head()"
   ]
  },
  {
   "cell_type": "code",
   "execution_count": null,
   "metadata": {},
   "outputs": [],
   "source": [
    "iris.shape"
   ]
  },
  {
   "cell_type": "code",
   "execution_count": null,
   "metadata": {},
   "outputs": [],
   "source": [
    "sns.pairplot(iris, hue='species', diag_kind='kde')\n",
    "\n",
    "plt.figure()"
   ]
  },
  {
   "cell_type": "markdown",
   "metadata": {},
   "source": [
    "# 正規分布モデル"
   ]
  },
  {
   "cell_type": "markdown",
   "metadata": {},
   "source": [
    "## 正規分布を仮定"
   ]
  },
  {
   "cell_type": "code",
   "execution_count": null,
   "metadata": {},
   "outputs": [],
   "source": [
    "iris_1 = iris[iris[\"species\"]==\"versicolor\"].sepal_length\n",
    "iris_1.head()"
   ]
  },
  {
   "cell_type": "code",
   "execution_count": null,
   "metadata": {},
   "outputs": [],
   "source": [
    "sns.kdeplot(iris_1)"
   ]
  },
  {
   "cell_type": "code",
   "execution_count": null,
   "metadata": {},
   "outputs": [],
   "source": [
    "with pm.Model() as model_1A:\n",
    "    mu = pm.Uniform('mu', 5.0, 7.0)\n",
    "    sigma = pm.HalfNormal('sigma', sd=1.0)\n",
    "    y = pm.Normal('y', mu=mu, sd=sigma, observed=iris_1)\n",
    "    trace = pm.sample(2000, njobs=4)\n",
    "\n",
    "trace = trace[200:]\n",
    "pm.traceplot(trace)\n",
    "\n",
    "plt.figure()"
   ]
  },
  {
   "cell_type": "code",
   "execution_count": null,
   "metadata": {},
   "outputs": [],
   "source": [
    "#pm.model_to_graphviz(model_1A)"
   ]
  },
  {
   "cell_type": "code",
   "execution_count": null,
   "metadata": {},
   "outputs": [],
   "source": [
    "pm.summary(trace)"
   ]
  },
  {
   "cell_type": "code",
   "execution_count": null,
   "metadata": {},
   "outputs": [],
   "source": [
    "samples=100\n",
    "\n",
    "ppc = pm.sample_posterior_predictive(trace, samples=samples, model=model_1A)\n",
    "ppc"
   ]
  },
  {
   "cell_type": "code",
   "execution_count": null,
   "metadata": {},
   "outputs": [],
   "source": [
    "for i in range(samples):\n",
    "    sns.kdeplot(ppc['y'][i], color='r', alpha=0.05)\n",
    "    \n",
    "sns.kdeplot(iris_1)\n",
    "plt.figure();"
   ]
  },
  {
   "cell_type": "markdown",
   "metadata": {},
   "source": [
    "幅を広く取りすぎている？"
   ]
  },
  {
   "cell_type": "markdown",
   "metadata": {},
   "source": [
    "## t分布を仮定"
   ]
  },
  {
   "cell_type": "code",
   "execution_count": null,
   "metadata": {},
   "outputs": [],
   "source": [
    "#t分布とは\n",
    "x = np.arange(-5,5,0.01)\n",
    "y1 = stats.t.pdf(x=x, df=1)\n",
    "y3 = stats.t.pdf(x=x, df=3)\n",
    "y10 = stats.t.pdf(x=x, df=10)\n",
    "norm = stats.norm.pdf(x=x,loc=0,scale=1)\n",
    "\n",
    "plt.plot(x,y1, label='ν=1')\n",
    "plt.plot(x,y3, label='ν=3')\n",
    "plt.plot(x,y10, label='ν=10')\n",
    "plt.plot(x,norm, label='norm')\n",
    "\n",
    "plt.legend()"
   ]
  },
  {
   "cell_type": "code",
   "execution_count": null,
   "metadata": {},
   "outputs": [],
   "source": [
    "with pm.Model() as model_1B:\n",
    "    mu = pm.Uniform('mu', 5.0, 7.0)\n",
    "    sigma = pm.HalfNormal('sigma', sd=1.0)\n",
    "    nu = pm.Exponential('nu', 1/30)\n",
    "    y = pm.StudentT('y', mu=mu, sd=sigma, nu=nu, observed=iris_1)\n",
    "    trace = pm.sample(2000, njobs=4)\n",
    "\n",
    "trace = trace[200:]\n",
    "pm.traceplot(trace)\n",
    "\n",
    "plt.figure();"
   ]
  },
  {
   "cell_type": "code",
   "execution_count": null,
   "metadata": {},
   "outputs": [],
   "source": [
    "#pm.model_to_graphviz(model_1B)"
   ]
  },
  {
   "cell_type": "code",
   "execution_count": null,
   "metadata": {},
   "outputs": [],
   "source": [
    "pm.summary(trace)"
   ]
  },
  {
   "cell_type": "code",
   "execution_count": null,
   "metadata": {},
   "outputs": [],
   "source": [
    "samples=100\n",
    "\n",
    "ppc = pm.sample_posterior_predictive(trace, samples=samples, model=model_1B)\n",
    "\n",
    "for i in range(samples):\n",
    "    sns.kdeplot(ppc['y'][i], color='r', alpha=0.05)\n",
    "    \n",
    "sns.kdeplot(iris_1)\n",
    "plt.figure()"
   ]
  },
  {
   "cell_type": "markdown",
   "metadata": {},
   "source": [
    "# 線形回帰モデル"
   ]
  },
  {
   "cell_type": "code",
   "execution_count": null,
   "metadata": {},
   "outputs": [],
   "source": [
    "iris_2X = iris['petal_length']\n",
    "iris_2Y = iris['petal_width']\n",
    "\n",
    "plt.plot(iris_2X, iris_2Y, 'b.')"
   ]
  },
  {
   "cell_type": "code",
   "execution_count": null,
   "metadata": {},
   "outputs": [],
   "source": [
    "with pm.Model() as model_2A:\n",
    "    a = pm.Normal('a', mu=0, sd=10)\n",
    "    b = pm.Normal('b', mu=0, sd=1)\n",
    "    epsilon = pm.HalfCauchy('epsilon', 5)\n",
    "\n",
    "    mu = pm.Deterministic('mu', a + b * iris_2X)\n",
    "    y_pred = pm.Normal('y_pred', mu=mu, sd=epsilon, observed=iris_2Y)\n",
    "    \n",
    "    start = pm.find_MAP()\n",
    "    step = pm.Metropolis()\n",
    "\n",
    "    trace = pm.sample(2000, step, start, njobs=4)\n",
    "    \n",
    "trace = trace[200:]\n",
    "pm.traceplot(trace)\n",
    "\n",
    "plt.figure()"
   ]
  },
  {
   "cell_type": "code",
   "execution_count": null,
   "metadata": {},
   "outputs": [],
   "source": [
    "#pm.model_to_graphviz(model_2A)"
   ]
  },
  {
   "cell_type": "markdown",
   "metadata": {},
   "source": [
    "パラメータ推定がうまくいっていない\n",
    "\n",
    "強い自己相関があるため"
   ]
  },
  {
   "cell_type": "code",
   "execution_count": null,
   "metadata": {},
   "outputs": [],
   "source": [
    "var = ['a', 'b', 'epsilon']\n",
    "pm.autocorrplot(trace, var)\n",
    "\n",
    "plt.figure()"
   ]
  },
  {
   "cell_type": "code",
   "execution_count": null,
   "metadata": {},
   "outputs": [],
   "source": [
    "sns.kdeplot(trace['a'], trace['b'])"
   ]
  },
  {
   "cell_type": "markdown",
   "metadata": {},
   "source": [
    "改善策：サンプリング方法を変える（NUTS，デフォルト設定）"
   ]
  },
  {
   "cell_type": "code",
   "execution_count": null,
   "metadata": {},
   "outputs": [],
   "source": [
    "with pm.Model() as model_2B:\n",
    "    a = pm.Normal('a', mu=0, sd=10)\n",
    "    b = pm.Normal('b', mu=0, sd=1)\n",
    "    epsilon = pm.HalfCauchy('epsilon', 5)\n",
    "\n",
    "    mu = pm.Deterministic('mu', a + b *  iris_2X)\n",
    "    y_pred = pm.Normal('y_pred', mu=mu, sd=epsilon, observed=iris_2Y)\n",
    "\n",
    "    trace = pm.sample(2000, njobs=4)\n",
    "    \n",
    "trace = trace[200:]\n",
    "pm.traceplot(trace)\n",
    "\n",
    "plt.figure()"
   ]
  },
  {
   "cell_type": "code",
   "execution_count": null,
   "metadata": {},
   "outputs": [],
   "source": [
    "plt.plot(iris_2X, iris_2Y, 'b.')\n",
    "\n",
    "a_m = trace['a'].mean()\n",
    "b_m = trace['b'].mean()\n",
    "plt.plot(iris_2X, a_m + b_m * iris_2X, c='k',\n",
    "         label=\"y={:.2f}*x+{:.2f}\".format(a_m, b_m))\n",
    "\n",
    "plt.legend();"
   ]
  },
  {
   "cell_type": "code",
   "execution_count": null,
   "metadata": {},
   "outputs": [],
   "source": [
    "samples = 1000\n",
    "\n",
    "ppc = pm.sample_posterior_predictive(trace, samples=samples, model=model_2B)\n",
    "ppc"
   ]
  },
  {
   "cell_type": "code",
   "execution_count": null,
   "metadata": {},
   "outputs": [],
   "source": [
    "idx = np.argsort(iris_2X)\n",
    "x_ord = iris_2X[idx]\n",
    "\n",
    "plt.plot(iris_2X, iris_2Y, \"b.\")\n",
    "\n",
    "plt.plot(iris_2X, a_m + b_m * iris_2X, c='k',\n",
    "         label=\"y={:.2f}*x+{:.2f}\".format(a_m, b_m))\n",
    "\n",
    "sig0 = pm.hpd(ppc[\"y_pred\"], alpha=0.5)[idx]  # 50%HPD\n",
    "sig1 = pm.hpd(ppc[\"y_pred\"], alpha=0.05)[idx]  # 95%HPD\n",
    "plt.fill_between(x_ord, sig0[:, 0], sig0[:, 1], color=\"gray\", alpha=1)\n",
    "plt.fill_between(x_ord, sig1[:, 0], sig1[:, 1], color=\"gray\", alpha=0.5)\n",
    "\n",
    "plt.legend();"
   ]
  },
  {
   "cell_type": "markdown",
   "metadata": {},
   "source": [
    "# ロジスティック回帰モデル"
   ]
  },
  {
   "cell_type": "markdown",
   "metadata": {},
   "source": [
    "## 1変数"
   ]
  },
  {
   "cell_type": "code",
   "execution_count": null,
   "metadata": {},
   "outputs": [],
   "source": [
    "sns.stripplot(x='species', y='sepal_length', data=iris)"
   ]
  },
  {
   "cell_type": "code",
   "execution_count": null,
   "metadata": {},
   "outputs": [],
   "source": [
    "df = iris.query(\"species == ('setosa', 'versicolor')\")\n",
    "iris_3Y = pd.Categorical(df['species']).codes\n",
    "x_n = 'sepal_length' \n",
    "iris_3X = df[x_n].values\n",
    "\n",
    "plt.plot(iris_3X, iris_3Y, 'b.')"
   ]
  },
  {
   "cell_type": "code",
   "execution_count": null,
   "metadata": {},
   "outputs": [],
   "source": [
    "with pm.Model() as model_3A:\n",
    "    a = pm.Normal('a', mu=0, sd=10)\n",
    "    b = pm.Normal('b', mu=0, sd=10)\n",
    "  \n",
    "    mu = a + pm.math.dot(iris_3X, b)\n",
    "    theta = pm.Deterministic('theta', 1 / (1 + pm.math.exp(-mu)))\n",
    "    bd = pm.Deterministic('bd', -a/b)\n",
    "    yl = pm.Bernoulli('yl', p=theta, observed=iris_3Y)\n",
    "\n",
    "    trace = pm.sample(2000, njobs=4)\n",
    "\n",
    "chain = trace[200:]\n",
    "varnames = ['a', 'b', 'bd']\n",
    "pm.traceplot(chain, varnames)\n",
    "\n",
    "plt.figure()"
   ]
  },
  {
   "cell_type": "code",
   "execution_count": null,
   "metadata": {},
   "outputs": [],
   "source": [
    "#pm.model_to_graphviz(model_3A)"
   ]
  },
  {
   "cell_type": "code",
   "execution_count": null,
   "metadata": {},
   "outputs": [],
   "source": [
    "theta = chain['theta'].mean(axis=0)\n",
    "idx = np.argsort(iris_3X)\n",
    "plt.plot(iris_3X[idx], theta[idx], color='b', lw=3)\n",
    "plt.axvline(chain['bd'].mean(), ymax=1, color='r')\n",
    "bd_hpd = pm.hpd(chain['bd'])\n",
    "plt.fill_betweenx([0, 1], bd_hpd[0], bd_hpd[1], color='r', alpha=0.5)\n",
    "\n",
    "plt.plot(iris_3X, iris_3Y, 'o', color='k')\n",
    "theta_hpd = pm.hpd(chain['theta'])[idx]\n",
    "plt.fill_between(iris_3X[idx], theta_hpd[:, 0],\n",
    "                 theta_hpd[:, 1], color='b', alpha=0.5)\n",
    "\n",
    "plt.xlabel(x_n, fontsize=16)\n",
    "plt.ylabel(r'$\\theta$', rotation=0, fontsize=16)\n",
    "\n",
    "plt.figure()"
   ]
  },
  {
   "cell_type": "markdown",
   "metadata": {},
   "source": [
    "## 2変数"
   ]
  },
  {
   "cell_type": "code",
   "execution_count": null,
   "metadata": {},
   "outputs": [],
   "source": [
    "sns.pairplot(iris, hue='species', vars=['sepal_length', 'sepal_width'])"
   ]
  },
  {
   "cell_type": "code",
   "execution_count": null,
   "metadata": {},
   "outputs": [],
   "source": [
    "df = iris.query(\"species == ('setosa', 'versicolor')\")\n",
    "iris_3Y2 = pd.Categorical(df['species']).codes\n",
    "x_n = ['sepal_length', 'sepal_width']\n",
    "iris_3X2 = df[x_n].values"
   ]
  },
  {
   "cell_type": "code",
   "execution_count": null,
   "metadata": {},
   "outputs": [],
   "source": [
    "with pm.Model() as model_3B:\n",
    "    a = pm.Normal('a', mu=0, sd=10)\n",
    "    b = pm.Normal('b', mu=0, sd=2, shape=len(x_n))\n",
    "\n",
    "    mu = a + pm.math.dot(iris_3X2, b)\n",
    "    theta = pm.Deterministic('theta', 1 / (1 + pm.math.exp(-mu)))\n",
    "    bd = pm.Deterministic('bd', -a/b[1]-b[0]/b[1]*iris_3X2[:, 0])\n",
    "    yl = pm.Bernoulli('yl', p=theta, observed=iris_3Y2)\n",
    "\n",
    "    trace = pm.sample(2000, njobs=4)\n",
    "\n",
    "chain = trace[200:]\n",
    "varnames = ['a', 'b', 'bd']\n",
    "pm.traceplot(chain, varnames)\n",
    "\n",
    "plt.figure()"
   ]
  },
  {
   "cell_type": "code",
   "execution_count": null,
   "metadata": {},
   "outputs": [],
   "source": [
    "#pm.model_to_graphviz(model_3B)"
   ]
  },
  {
   "cell_type": "code",
   "execution_count": null,
   "metadata": {},
   "outputs": [],
   "source": [
    "idx = np.argsort(iris_3X2[:,0])\n",
    "ld = chain['bd'].mean(0)[idx]\n",
    "\n",
    "plt.scatter(iris_3X2[:,0], iris_3X2[:,1], c=iris_3Y, cmap='viridis')\n",
    "plt.plot(iris_3X2[:,0][idx], ld, color='r');\n",
    "\n",
    "ld_hpd = pm.hpd(chain['bd'])[idx]\n",
    "plt.fill_between(iris_3X2[:,0][idx], ld_hpd[:,0], ld_hpd[:,1], color='r', alpha=0.5);\n",
    "\n",
    "plt.figure()"
   ]
  },
  {
   "cell_type": "markdown",
   "metadata": {},
   "source": [
    "# 階層モデル"
   ]
  },
  {
   "cell_type": "markdown",
   "metadata": {},
   "source": [
    "## グループ間の比較"
   ]
  },
  {
   "cell_type": "code",
   "execution_count": null,
   "metadata": {},
   "outputs": [],
   "source": [
    "sns.stripplot(x='species', y='petal_width', data=iris)"
   ]
  },
  {
   "cell_type": "code",
   "execution_count": null,
   "metadata": {},
   "outputs": [],
   "source": [
    "iris_4A = iris['petal_width'].values\n",
    "idx = pd.Categorical(iris['species']).codes"
   ]
  },
  {
   "cell_type": "code",
   "execution_count": null,
   "metadata": {},
   "outputs": [],
   "source": [
    "with pm.Model() as model_4A:\n",
    "    means = pm.Normal('means', mu=0, sd=10, shape=len(set(idx)))\n",
    "    sds = pm.HalfNormal('sds', sd=10, shape=len(set(idx)))\n",
    "\n",
    "    y = pm.Normal('y', mu=means[idx], sd=sds[idx], observed=iris_4A)\n",
    "\n",
    "    trace = pm.sample(2000, njobs=4)\n",
    "chain = trace[200::]\n",
    "pm.traceplot(chain)\n",
    "\n",
    "plt.figure()"
   ]
  },
  {
   "cell_type": "code",
   "execution_count": null,
   "metadata": {},
   "outputs": [],
   "source": [
    "#pm.model_to_graphviz(model_4A)"
   ]
  },
  {
   "cell_type": "code",
   "execution_count": null,
   "metadata": {},
   "outputs": [],
   "source": [
    "pm.summary(chain, varnames=['means'])"
   ]
  },
  {
   "cell_type": "code",
   "execution_count": null,
   "metadata": {},
   "outputs": [],
   "source": [
    "fig = plt.figure(figsize=(10, 6))\n",
    "ax = fig.subplots(3, 1, sharex=True)\n",
    "\n",
    "pm.plot_posterior(chain, varnames=['means'], kde_plot=True, ax=ax);"
   ]
  },
  {
   "cell_type": "markdown",
   "metadata": {},
   "source": [
    "## 階層モデル"
   ]
  },
  {
   "cell_type": "code",
   "execution_count": null,
   "metadata": {},
   "outputs": [],
   "source": [
    "with pm.Model() as model_4B:\n",
    "    #階層事前分布\n",
    "    amean = pm.Normal('am', mu=0, sd=10)\n",
    "    asd = pm.HalfNormal('asd', sd=10)\n",
    "    ssd = pm.HalfNormal('ssd', sd=10)\n",
    "    #事前分布\n",
    "    means = pm.Normal('means', mu=amean, sd=asd, shape=len(set(idx)))\n",
    "    sds = pm.HalfNormal('sds', sd=ssd, shape=len(set(idx)))\n",
    "    #尤度\n",
    "    y = pm.Normal('y', mu=means[idx], sd=sds[idx], observed=iris_4A)\n",
    "\n",
    "    trace = pm.sample(2000, njobs=4)\n",
    "chain = trace[200::]\n",
    "pm.traceplot(chain)\n",
    "\n",
    "plt.figure()"
   ]
  },
  {
   "cell_type": "code",
   "execution_count": null,
   "metadata": {},
   "outputs": [],
   "source": [
    "#pm.model_to_graphviz(model_4B)"
   ]
  },
  {
   "cell_type": "code",
   "execution_count": null,
   "metadata": {},
   "outputs": [],
   "source": [
    "pm.summary(chain, varnames=['means'])"
   ]
  },
  {
   "cell_type": "code",
   "execution_count": null,
   "metadata": {},
   "outputs": [],
   "source": [
    "fig = plt.figure(figsize=(10, 6))\n",
    "ax = fig.subplots(3, 1, sharex=True)\n",
    "\n",
    "pm.plot_posterior(chain, varnames=['means'], kde_plot=True, ax=ax);"
   ]
  },
  {
   "cell_type": "code",
   "execution_count": null,
   "metadata": {},
   "outputs": [],
   "source": []
  }
 ],
 "metadata": {
  "kernelspec": {
   "display_name": "Python 3",
   "language": "python",
   "name": "python3"
  },
  "language_info": {
   "codemirror_mode": {
    "name": "ipython",
    "version": 3
   },
   "file_extension": ".py",
   "mimetype": "text/x-python",
   "name": "python",
   "nbconvert_exporter": "python",
   "pygments_lexer": "ipython3",
   "version": "3.6.6"
  },
  "toc": {
   "base_numbering": 1,
   "nav_menu": {},
   "number_sections": true,
   "sideBar": true,
   "skip_h1_title": false,
   "title_cell": "Table of Contents",
   "title_sidebar": "Contents",
   "toc_cell": false,
   "toc_position": {},
   "toc_section_display": true,
   "toc_window_display": false
  }
 },
 "nbformat": 4,
 "nbformat_minor": 2
}
